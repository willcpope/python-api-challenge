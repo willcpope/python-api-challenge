{
 "cells": [
  {
   "cell_type": "markdown",
   "metadata": {},
   "source": [
    "# VacationPy\n",
    "----\n",
    "\n",
    "#### Note\n",
    "* Instructions have been included for each segment. You do not have to follow them exactly, but they are included to help you think through the steps."
   ]
  },
  {
   "cell_type": "code",
   "execution_count": 1,
   "metadata": {},
   "outputs": [],
   "source": [
    "# Dependencies and Setup\n",
    "import matplotlib.pyplot as plt\n",
    "import pandas as pd\n",
    "import numpy as np\n",
    "import requests\n",
    "import gmaps\n",
    "import os\n",
    "\n",
    "# Import API key\n",
    "from api_keys import g_key"
   ]
  },
  {
   "cell_type": "markdown",
   "metadata": {},
   "source": [
    "### Store Part I results into DataFrame\n",
    "* Load the csv exported in Part I to a DataFrame"
   ]
  },
  {
   "cell_type": "code",
   "execution_count": 2,
   "metadata": {},
   "outputs": [
    {
     "data": {
      "text/html": [
       "<div>\n",
       "<style scoped>\n",
       "    .dataframe tbody tr th:only-of-type {\n",
       "        vertical-align: middle;\n",
       "    }\n",
       "\n",
       "    .dataframe tbody tr th {\n",
       "        vertical-align: top;\n",
       "    }\n",
       "\n",
       "    .dataframe thead th {\n",
       "        text-align: right;\n",
       "    }\n",
       "</style>\n",
       "<table border=\"1\" class=\"dataframe\">\n",
       "  <thead>\n",
       "    <tr style=\"text-align: right;\">\n",
       "      <th></th>\n",
       "      <th>City</th>\n",
       "      <th>Cloudiness</th>\n",
       "      <th>Country</th>\n",
       "      <th>Date</th>\n",
       "      <th>Humidity</th>\n",
       "      <th>Latitude</th>\n",
       "      <th>Longitude</th>\n",
       "      <th>Maximum Temperature</th>\n",
       "      <th>Wind Speed</th>\n",
       "    </tr>\n",
       "  </thead>\n",
       "  <tbody>\n",
       "    <tr>\n",
       "      <td>0</td>\n",
       "      <td>Tiznit</td>\n",
       "      <td>44</td>\n",
       "      <td>MA</td>\n",
       "      <td>1580145602</td>\n",
       "      <td>41</td>\n",
       "      <td>29.58</td>\n",
       "      <td>-9.50</td>\n",
       "      <td>59.79</td>\n",
       "      <td>4.23</td>\n",
       "    </tr>\n",
       "    <tr>\n",
       "      <td>1</td>\n",
       "      <td>Puerto Escondido</td>\n",
       "      <td>5</td>\n",
       "      <td>MX</td>\n",
       "      <td>1580145603</td>\n",
       "      <td>57</td>\n",
       "      <td>15.85</td>\n",
       "      <td>-97.07</td>\n",
       "      <td>80.60</td>\n",
       "      <td>6.26</td>\n",
       "    </tr>\n",
       "    <tr>\n",
       "      <td>2</td>\n",
       "      <td>Ozark</td>\n",
       "      <td>90</td>\n",
       "      <td>US</td>\n",
       "      <td>1580145604</td>\n",
       "      <td>66</td>\n",
       "      <td>37.02</td>\n",
       "      <td>-93.21</td>\n",
       "      <td>52.00</td>\n",
       "      <td>4.12</td>\n",
       "    </tr>\n",
       "    <tr>\n",
       "      <td>3</td>\n",
       "      <td>Ancud</td>\n",
       "      <td>75</td>\n",
       "      <td>CL</td>\n",
       "      <td>1580145604</td>\n",
       "      <td>48</td>\n",
       "      <td>-41.87</td>\n",
       "      <td>-73.82</td>\n",
       "      <td>64.40</td>\n",
       "      <td>12.75</td>\n",
       "    </tr>\n",
       "    <tr>\n",
       "      <td>4</td>\n",
       "      <td>Tasiilaq</td>\n",
       "      <td>90</td>\n",
       "      <td>GL</td>\n",
       "      <td>1580145605</td>\n",
       "      <td>54</td>\n",
       "      <td>65.61</td>\n",
       "      <td>-37.64</td>\n",
       "      <td>30.20</td>\n",
       "      <td>3.36</td>\n",
       "    </tr>\n",
       "  </tbody>\n",
       "</table>\n",
       "</div>"
      ],
      "text/plain": [
       "               City  Cloudiness Country        Date  Humidity  Latitude  \\\n",
       "0            Tiznit          44      MA  1580145602        41     29.58   \n",
       "1  Puerto Escondido           5      MX  1580145603        57     15.85   \n",
       "2             Ozark          90      US  1580145604        66     37.02   \n",
       "3             Ancud          75      CL  1580145604        48    -41.87   \n",
       "4          Tasiilaq          90      GL  1580145605        54     65.61   \n",
       "\n",
       "   Longitude  Maximum Temperature  Wind Speed  \n",
       "0      -9.50                59.79        4.23  \n",
       "1     -97.07                80.60        6.26  \n",
       "2     -93.21                52.00        4.12  \n",
       "3     -73.82                64.40       12.75  \n",
       "4     -37.64                30.20        3.36  "
      ]
     },
     "execution_count": 2,
     "metadata": {},
     "output_type": "execute_result"
    }
   ],
   "source": [
    "#Read-in the .csv from Part 1\n",
    "weather_df = pd.read_csv(\"../WeatherPy/output_data/cities.csv\")\n",
    "\n",
    "#Display data\n",
    "weather_df.head()"
   ]
  },
  {
   "cell_type": "markdown",
   "metadata": {},
   "source": [
    "### Humidity Heatmap\n",
    "* Configure gmaps.\n",
    "* Use the Lat and Lng as locations and Humidity as the weight.\n",
    "* Add Heatmap layer to map."
   ]
  },
  {
   "cell_type": "code",
   "execution_count": 3,
   "metadata": {},
   "outputs": [],
   "source": [
    "#Import Google API key\n",
    "gmaps.configure(api_key=g_key)"
   ]
  },
  {
   "cell_type": "code",
   "execution_count": 4,
   "metadata": {},
   "outputs": [
    {
     "data": {
      "application/vnd.jupyter.widget-view+json": {
       "model_id": "3f0396f46c1947969370c59f40f64660",
       "version_major": 2,
       "version_minor": 0
      },
      "text/plain": [
       "Figure(layout=FigureLayout(height='420px'))"
      ]
     },
     "metadata": {},
     "output_type": "display_data"
    }
   ],
   "source": [
    "#Define variables and parameters for headmap\n",
    "locations = weather_df[[\"Latitude\", \"Longitude\"]]\n",
    "humidity = weather_df[\"Humidity\"].astype(float)\n",
    "\n",
    "fig = gmaps.figure(center=(20.0,0.0),zoom_level=2)\n",
    "heat_layer = gmaps.heatmap_layer(locations, weights=humidity, dissipating = False, max_intensity=50, point_radius = 2)\n",
    "fig.add_layer(heat_layer)\n",
    "\n",
    "fig"
   ]
  },
  {
   "cell_type": "markdown",
   "metadata": {},
   "source": [
    "### Create new DataFrame fitting weather criteria\n",
    "* Narrow down the cities to fit weather conditions.\n",
    "* Drop any rows will null values."
   ]
  },
  {
   "cell_type": "code",
   "execution_count": 5,
   "metadata": {},
   "outputs": [
    {
     "data": {
      "text/html": [
       "<div>\n",
       "<style scoped>\n",
       "    .dataframe tbody tr th:only-of-type {\n",
       "        vertical-align: middle;\n",
       "    }\n",
       "\n",
       "    .dataframe tbody tr th {\n",
       "        vertical-align: top;\n",
       "    }\n",
       "\n",
       "    .dataframe thead th {\n",
       "        text-align: right;\n",
       "    }\n",
       "</style>\n",
       "<table border=\"1\" class=\"dataframe\">\n",
       "  <thead>\n",
       "    <tr style=\"text-align: right;\">\n",
       "      <th></th>\n",
       "      <th>index</th>\n",
       "      <th>City</th>\n",
       "      <th>Cloudiness</th>\n",
       "      <th>Country</th>\n",
       "      <th>Date</th>\n",
       "      <th>Humidity</th>\n",
       "      <th>Latitude</th>\n",
       "      <th>Longitude</th>\n",
       "      <th>Maximum Temperature</th>\n",
       "      <th>Wind Speed</th>\n",
       "    </tr>\n",
       "  </thead>\n",
       "  <tbody>\n",
       "    <tr>\n",
       "      <td>0</td>\n",
       "      <td>134</td>\n",
       "      <td>Adre</td>\n",
       "      <td>3</td>\n",
       "      <td>TD</td>\n",
       "      <td>1580145696</td>\n",
       "      <td>27</td>\n",
       "      <td>13.47</td>\n",
       "      <td>22.20</td>\n",
       "      <td>61.29</td>\n",
       "      <td>4.32</td>\n",
       "    </tr>\n",
       "    <tr>\n",
       "      <td>1</td>\n",
       "      <td>308</td>\n",
       "      <td>Marzuq</td>\n",
       "      <td>0</td>\n",
       "      <td>YE</td>\n",
       "      <td>1580145823</td>\n",
       "      <td>32</td>\n",
       "      <td>14.40</td>\n",
       "      <td>46.47</td>\n",
       "      <td>58.82</td>\n",
       "      <td>2.53</td>\n",
       "    </tr>\n",
       "    <tr>\n",
       "      <td>2</td>\n",
       "      <td>354</td>\n",
       "      <td>Umm Lajj</td>\n",
       "      <td>0</td>\n",
       "      <td>SA</td>\n",
       "      <td>1580145863</td>\n",
       "      <td>32</td>\n",
       "      <td>25.02</td>\n",
       "      <td>37.27</td>\n",
       "      <td>61.12</td>\n",
       "      <td>4.23</td>\n",
       "    </tr>\n",
       "    <tr>\n",
       "      <td>3</td>\n",
       "      <td>370</td>\n",
       "      <td>Bahir Dar</td>\n",
       "      <td>0</td>\n",
       "      <td>ET</td>\n",
       "      <td>1580145875</td>\n",
       "      <td>23</td>\n",
       "      <td>11.59</td>\n",
       "      <td>37.39</td>\n",
       "      <td>65.34</td>\n",
       "      <td>7.85</td>\n",
       "    </tr>\n",
       "  </tbody>\n",
       "</table>\n",
       "</div>"
      ],
      "text/plain": [
       "   index       City  Cloudiness Country        Date  Humidity  Latitude  \\\n",
       "0    134       Adre           3      TD  1580145696        27     13.47   \n",
       "1    308     Marzuq           0      YE  1580145823        32     14.40   \n",
       "2    354   Umm Lajj           0      SA  1580145863        32     25.02   \n",
       "3    370  Bahir Dar           0      ET  1580145875        23     11.59   \n",
       "\n",
       "   Longitude  Maximum Temperature  Wind Speed  \n",
       "0      22.20                61.29        4.32  \n",
       "1      46.47                58.82        2.53  \n",
       "2      37.27                61.12        4.23  \n",
       "3      37.39                65.34        7.85  "
      ]
     },
     "execution_count": 5,
     "metadata": {},
     "output_type": "execute_result"
    }
   ],
   "source": [
    "#Drop NaN results\n",
    "weather_df = weather_df.dropna()\n",
    "\n",
    "#Define weather criteria\n",
    "weather_criteria = weather_df[(weather_df['Maximum Temperature'] > 55) & \n",
    "                              (weather_df['Maximum Temperature']< 70) & \n",
    "                              (weather_df['Humidity'] < 40) &\n",
    "                              (weather_df['Wind Speed'] < 10)&\n",
    "                              (weather_df['Cloudiness'] < 50)]\n",
    "\n",
    "weather_criteria.reset_index()"
   ]
  },
  {
   "cell_type": "markdown",
   "metadata": {},
   "source": [
    "### Hotel Map\n",
    "* Store into variable named `hotel_df`.\n",
    "* Add a \"Hotel Name\" column to the DataFrame.\n",
    "* Set parameters to search for hotels with 5000 meters.\n",
    "* Hit the Google Places API for each city's coordinates.\n",
    "* Store the first Hotel result into the DataFrame.\n",
    "* Plot markers on top of the heatmap."
   ]
  },
  {
   "cell_type": "code",
   "execution_count": 6,
   "metadata": {},
   "outputs": [
    {
     "data": {
      "text/html": [
       "<div>\n",
       "<style scoped>\n",
       "    .dataframe tbody tr th:only-of-type {\n",
       "        vertical-align: middle;\n",
       "    }\n",
       "\n",
       "    .dataframe tbody tr th {\n",
       "        vertical-align: top;\n",
       "    }\n",
       "\n",
       "    .dataframe thead th {\n",
       "        text-align: right;\n",
       "    }\n",
       "</style>\n",
       "<table border=\"1\" class=\"dataframe\">\n",
       "  <thead>\n",
       "    <tr style=\"text-align: right;\">\n",
       "      <th></th>\n",
       "      <th>index</th>\n",
       "      <th>City</th>\n",
       "      <th>Country</th>\n",
       "      <th>Latitude</th>\n",
       "      <th>Longitude</th>\n",
       "      <th>Hotel Name</th>\n",
       "    </tr>\n",
       "  </thead>\n",
       "  <tbody>\n",
       "    <tr>\n",
       "      <td>0</td>\n",
       "      <td>134</td>\n",
       "      <td>Adre</td>\n",
       "      <td>TD</td>\n",
       "      <td>13.47</td>\n",
       "      <td>22.20</td>\n",
       "      <td></td>\n",
       "    </tr>\n",
       "    <tr>\n",
       "      <td>1</td>\n",
       "      <td>308</td>\n",
       "      <td>Marzuq</td>\n",
       "      <td>YE</td>\n",
       "      <td>14.40</td>\n",
       "      <td>46.47</td>\n",
       "      <td></td>\n",
       "    </tr>\n",
       "    <tr>\n",
       "      <td>2</td>\n",
       "      <td>354</td>\n",
       "      <td>Umm Lajj</td>\n",
       "      <td>SA</td>\n",
       "      <td>25.02</td>\n",
       "      <td>37.27</td>\n",
       "      <td></td>\n",
       "    </tr>\n",
       "    <tr>\n",
       "      <td>3</td>\n",
       "      <td>370</td>\n",
       "      <td>Bahir Dar</td>\n",
       "      <td>ET</td>\n",
       "      <td>11.59</td>\n",
       "      <td>37.39</td>\n",
       "      <td></td>\n",
       "    </tr>\n",
       "  </tbody>\n",
       "</table>\n",
       "</div>"
      ],
      "text/plain": [
       "   index       City Country  Latitude  Longitude Hotel Name\n",
       "0    134       Adre      TD     13.47      22.20           \n",
       "1    308     Marzuq      YE     14.40      46.47           \n",
       "2    354   Umm Lajj      SA     25.02      37.27           \n",
       "3    370  Bahir Dar      ET     11.59      37.39           "
      ]
     },
     "execution_count": 6,
     "metadata": {},
     "output_type": "execute_result"
    }
   ],
   "source": [
    "#Create new data frame with specific columns from criteria results\n",
    "hotel_df = pd.DataFrame(weather_criteria,columns=['City','Country','Latitude','Longitude'])\n",
    "\n",
    "#Add a new column for \"Hotel Name\"\n",
    "hotel_df['Hotel Name']= \"\"\n",
    "\n",
    "#Drop NaN results\n",
    "hotel_df.dropna()\n",
    "\n",
    "hotel_df.reset_index()"
   ]
  },
  {
   "cell_type": "code",
   "execution_count": 7,
   "metadata": {},
   "outputs": [
    {
     "name": "stdout",
     "output_type": "stream",
     "text": [
      "The nearest hotel to Adre is Adre\n",
      "The nearest hotel to Marzuq is Al Hujayrah\n",
      "The nearest hotel to Umm Lajj is Umluj\n",
      "The nearest hotel to Bahir Dar is Bahir Dar\n"
     ]
    }
   ],
   "source": [
    "#Create empty list for Hotel Name column and parameters to search\n",
    "hotel_name=[]\n",
    "target_type = \"hotel\"\n",
    "radius = 5000\n",
    "\n",
    "#Define parameters\n",
    "params = {\n",
    "    \"types\": target_type,\n",
    "    \"radius\": radius,\n",
    "    \"key\": g_key\n",
    "}\n",
    "\n",
    "#For loop to search for hotels in locations meeting weather criteria\n",
    "for index, row in hotel_df.iterrows():\n",
    "    \n",
    "    lat = row[\"Latitude\"]\n",
    "    lng = row[\"Longitude\"]\n",
    "    \n",
    "    params[\"location\"] = f\"{lat},{lng}\"\n",
    "      \n",
    "    base_url = \"https://maps.googleapis.com/maps/api/place/nearbysearch/json\"\n",
    "    response = requests.get(base_url, params=params)\n",
    "    response_json=response.json()\n",
    "\n",
    "    try: \n",
    "        hotel_name.append(response_json['results'][0]['name'])\n",
    "    \n",
    "        hotel_df.loc[index, \"Hotel Name\"] = response_json[\"results\"][0][\"name\"]\n",
    "    \n",
    "        print(f\"The nearest hotel to {row[0]} is {response_json['results'][0]['name']}\")  \n",
    "    \n",
    "    except (KeyError, IndexError):\n",
    "        print(\"Cannot locate a hotel - skipping.\")"
   ]
  },
  {
   "cell_type": "code",
   "execution_count": 8,
   "metadata": {},
   "outputs": [
    {
     "data": {
      "text/html": [
       "<div>\n",
       "<style scoped>\n",
       "    .dataframe tbody tr th:only-of-type {\n",
       "        vertical-align: middle;\n",
       "    }\n",
       "\n",
       "    .dataframe tbody tr th {\n",
       "        vertical-align: top;\n",
       "    }\n",
       "\n",
       "    .dataframe thead th {\n",
       "        text-align: right;\n",
       "    }\n",
       "</style>\n",
       "<table border=\"1\" class=\"dataframe\">\n",
       "  <thead>\n",
       "    <tr style=\"text-align: right;\">\n",
       "      <th></th>\n",
       "      <th>index</th>\n",
       "      <th>City</th>\n",
       "      <th>Country</th>\n",
       "      <th>Latitude</th>\n",
       "      <th>Longitude</th>\n",
       "      <th>Hotel Name</th>\n",
       "    </tr>\n",
       "  </thead>\n",
       "  <tbody>\n",
       "    <tr>\n",
       "      <td>0</td>\n",
       "      <td>134</td>\n",
       "      <td>Adre</td>\n",
       "      <td>TD</td>\n",
       "      <td>13.47</td>\n",
       "      <td>22.20</td>\n",
       "      <td>Adre</td>\n",
       "    </tr>\n",
       "    <tr>\n",
       "      <td>1</td>\n",
       "      <td>308</td>\n",
       "      <td>Marzuq</td>\n",
       "      <td>YE</td>\n",
       "      <td>14.40</td>\n",
       "      <td>46.47</td>\n",
       "      <td>Al Hujayrah</td>\n",
       "    </tr>\n",
       "    <tr>\n",
       "      <td>2</td>\n",
       "      <td>354</td>\n",
       "      <td>Umm Lajj</td>\n",
       "      <td>SA</td>\n",
       "      <td>25.02</td>\n",
       "      <td>37.27</td>\n",
       "      <td>Umluj</td>\n",
       "    </tr>\n",
       "    <tr>\n",
       "      <td>3</td>\n",
       "      <td>370</td>\n",
       "      <td>Bahir Dar</td>\n",
       "      <td>ET</td>\n",
       "      <td>11.59</td>\n",
       "      <td>37.39</td>\n",
       "      <td>Bahir Dar</td>\n",
       "    </tr>\n",
       "  </tbody>\n",
       "</table>\n",
       "</div>"
      ],
      "text/plain": [
       "   index       City Country  Latitude  Longitude   Hotel Name\n",
       "0    134       Adre      TD     13.47      22.20         Adre\n",
       "1    308     Marzuq      YE     14.40      46.47  Al Hujayrah\n",
       "2    354   Umm Lajj      SA     25.02      37.27        Umluj\n",
       "3    370  Bahir Dar      ET     11.59      37.39    Bahir Dar"
      ]
     },
     "execution_count": 8,
     "metadata": {},
     "output_type": "execute_result"
    }
   ],
   "source": [
    "#Drop any potential NaN results\n",
    "hotel_df = hotel_df.dropna()\n",
    "hotel_df.reset_index()"
   ]
  },
  {
   "cell_type": "code",
   "execution_count": 9,
   "metadata": {},
   "outputs": [],
   "source": [
    "# NOTE: Do not change any of the code in this cell\n",
    "\n",
    "# Using the template add the hotel marks to the heatmap\n",
    "info_box_template = \"\"\"\n",
    "<dl>\n",
    "<dt>Name</dt><dd>{Hotel Name}</dd>\n",
    "<dt>City</dt><dd>{City}</dd>\n",
    "<dt>Country</dt><dd>{Country}</dd>\n",
    "</dl>\n",
    "\"\"\"\n",
    "# Store the DataFrame Row\n",
    "# NOTE: be sure to update with your DataFrame name\n",
    "hotel_info = [info_box_template.format(**row) for index, row in hotel_df.iterrows()]\n",
    "locations = weather_criteria[[\"Latitude\", \"Longitude\"]]"
   ]
  },
  {
   "cell_type": "code",
   "execution_count": 10,
   "metadata": {},
   "outputs": [
    {
     "data": {
      "application/vnd.jupyter.widget-view+json": {
       "model_id": "1586775485d84b1ab932300ba933bdb9",
       "version_major": 2,
       "version_minor": 0
      },
      "text/plain": [
       "Figure(layout=FigureLayout(height='420px'))"
      ]
     },
     "metadata": {},
     "output_type": "display_data"
    }
   ],
   "source": [
    "# Add marker layer ontop of heat map\n",
    "fig = gmaps.figure(center=(20.0,0.0),zoom_level=1)\n",
    "markers = gmaps.marker_layer(locations, info_box_content=hotel_info)\n",
    "\n",
    "fig.add_layer(markers)\n",
    "fig.add_layer(heat_layer)\n",
    "\n",
    "# Display Map\n",
    "fig"
   ]
  },
  {
   "cell_type": "code",
   "execution_count": null,
   "metadata": {},
   "outputs": [],
   "source": []
  }
 ],
 "metadata": {
  "kernelspec": {
   "display_name": "Python 3",
   "language": "python",
   "name": "python3"
  },
  "language_info": {
   "codemirror_mode": {
    "name": "ipython",
    "version": 3
   },
   "file_extension": ".py",
   "mimetype": "text/x-python",
   "name": "python",
   "nbconvert_exporter": "python",
   "pygments_lexer": "ipython3",
   "version": "3.7.4"
  },
  "latex_envs": {
   "LaTeX_envs_menu_present": true,
   "autoclose": false,
   "autocomplete": true,
   "bibliofile": "biblio.bib",
   "cite_by": "apalike",
   "current_citInitial": 1,
   "eqLabelWithNumbers": true,
   "eqNumInitial": 1,
   "hotkeys": {
    "equation": "Ctrl-E",
    "itemize": "Ctrl-I"
   },
   "labels_anchors": false,
   "latex_user_defs": false,
   "report_style_numbering": false,
   "user_envs_cfg": false
  }
 },
 "nbformat": 4,
 "nbformat_minor": 2
}
